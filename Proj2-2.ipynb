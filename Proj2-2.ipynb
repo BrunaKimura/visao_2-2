{
 "cells": [
  {
   "cell_type": "markdown",
   "metadata": {},
   "source": [
    "# Contagem de pessoas utilizando Codebook\n",
    "\n",
    "Bruna Mayumi Kimura\n",
    "-------------------------------------"
   ]
  },
  {
   "cell_type": "code",
   "execution_count": 1,
   "metadata": {},
   "outputs": [],
   "source": [
    "import cv2 as cv\n",
    "import numpy as np\n",
    "import matplotlib.pyplot as plt\n",
    "import math\n",
    "import pickle\n",
    "from tqdm import tqdm"
   ]
  },
  {
   "cell_type": "markdown",
   "metadata": {},
   "source": [
    "## Classe Codeword"
   ]
  },
  {
   "cell_type": "code",
   "execution_count": 2,
   "metadata": {},
   "outputs": [],
   "source": [
    "class Codeword:\n",
    "\n",
    "    def __init__(self, xt, aux):\n",
    "        self.v = xt\n",
    "        self.aux = aux\n"
   ]
  },
  {
   "cell_type": "markdown",
   "metadata": {},
   "source": [
    "## Funções"
   ]
  },
  {
   "cell_type": "code",
   "execution_count": 3,
   "metadata": {},
   "outputs": [],
   "source": [
    "# funções\n",
    "def colordist(xt, vi):\n",
    "    norma_xt = (xt[0]**2+xt[1]**2+xt[2]**2)\n",
    "    norma_vi = (vi[0]**2+vi[1]**2+vi[2]**2)\n",
    "#     xv = (float(vi[0])*float(xt[0]) + float(vi[1])*float(xt[1]) + float(vi[2])*float(xt[2]))\n",
    "    xv = (vi[0]*xt[0] + vi[1]*xt[1] + vi[2]*xt[2])\n",
    "\n",
    "    if norma_vi <= 0:\n",
    "        p = 0\n",
    "    else:\n",
    "        p = xv/norma_vi\n",
    "    \n",
    "    return math.sqrt(abs(norma_xt - p))\n",
    "\n",
    "def brightness(xt, Imin, Imax):\n",
    "    alpha = 0.4\n",
    "    beta = 1.1\n",
    "    Ilow = alpha * Imax\n",
    "    Ihi = min(beta*Imax, (Imin/alpha))\n",
    "    norma_xt = (xt[0]**2+xt[1]**2+xt[2]**2)**(1/2)\n",
    "    if Ilow <= norma_xt and norma_xt <= Ihi:\n",
    "        return True\n",
    "    else:\n",
    "        return False"
   ]
  },
  {
   "cell_type": "markdown",
   "metadata": {},
   "source": [
    "## Geração do arquivo codebook"
   ]
  },
  {
   "cell_type": "code",
   "execution_count": 4,
   "metadata": {},
   "outputs": [
    {
     "name": "stderr",
     "output_type": "stream",
     "text": [
      "100%|██████████| 25/25 [11:48<00:00, 51.99s/it]\n"
     ]
    },
    {
     "ename": "MemoryError",
     "evalue": "",
     "output_type": "error",
     "traceback": [
      "\u001b[0;31m---------------------------------------------------------------------------\u001b[0m",
      "\u001b[0;31mMemoryError\u001b[0m                               Traceback (most recent call last)",
      "\u001b[0;32m<ipython-input-4-3bf47603c4cc>\u001b[0m in \u001b[0;36m<module>\u001b[0;34m()\u001b[0m\n\u001b[1;32m     51\u001b[0m \u001b[0;34m\u001b[0m\u001b[0m\n\u001b[1;32m     52\u001b[0m \u001b[0msaida\u001b[0m \u001b[0;34m=\u001b[0m \u001b[0mopen\u001b[0m\u001b[0;34m(\u001b[0m\u001b[0;34m\"treino.p\"\u001b[0m\u001b[0;34m,\u001b[0m \u001b[0;34m\"wb\"\u001b[0m \u001b[0;34m)\u001b[0m\u001b[0;34m\u001b[0m\u001b[0m\n\u001b[0;32m---> 53\u001b[0;31m \u001b[0mpickle\u001b[0m\u001b[0;34m.\u001b[0m\u001b[0mdump\u001b[0m\u001b[0;34m(\u001b[0m\u001b[0mC\u001b[0m\u001b[0;34m,\u001b[0m  \u001b[0msaida\u001b[0m\u001b[0;34m)\u001b[0m\u001b[0;34m\u001b[0m\u001b[0m\n\u001b[0m\u001b[1;32m     54\u001b[0m \u001b[0msaida\u001b[0m\u001b[0;34m.\u001b[0m\u001b[0mclose\u001b[0m\u001b[0;34m(\u001b[0m\u001b[0;34m)\u001b[0m\u001b[0;34m\u001b[0m\u001b[0m\n",
      "\u001b[0;31mMemoryError\u001b[0m: "
     ]
    }
   ],
   "source": [
    "L=0\n",
    "e1 = 12\n",
    "N = 25\n",
    "\n",
    "img = cv.imread('teste.jpg')\n",
    "\n",
    "C =[]\n",
    "for row in range(img.shape[0]):\n",
    "    C.append([])\n",
    "    for col in range (img.shape[1]):\n",
    "        C[row].append([])\n",
    "\n",
    "# Algoritmo do Codebook\n",
    "for t in tqdm(range(1, N+1)):\n",
    "    n = 9 + t\n",
    "    nome = '000000'+str(n)\n",
    "    img = cv.imread(nome +'.jpg')\n",
    "    img = img.astype(float)\n",
    "\n",
    "    for row in range (img.shape[0]):\n",
    "        for col in range(img.shape[1]):\n",
    "            xt = img[row, col, :]\n",
    "            R = xt[0]\n",
    "            G = xt[1]\n",
    "            B = xt[2]\n",
    "            I =(R**2 + G**2 + B**2)**(1/2) \n",
    "\n",
    "            match = False\n",
    "\n",
    "            for cw in C[row][col]:\n",
    "                if (colordist(xt, cw.v) <= e1) and (brightness(xt, cw.aux[0], cw.aux[1])):\n",
    "                    cw.v[0] = (cw.aux[2]*cw.v[0]+xt[0])/(cw.aux[2]+1)\n",
    "                    cw.v[1] = (cw.aux[2]*cw.v[1]+xt[1])/(cw.aux[2]+1)\n",
    "                    cw.v[2] = (cw.aux[2]*cw.v[2]+xt[2])/(cw.aux[2]+1)\n",
    "                    Imin = min(I, cw.aux[0])\n",
    "                    Imax = max(I, cw.aux[1])\n",
    "                    cw.aux = [Imin, Imax, cw.aux[2]+1, max(cw.aux[3],t-cw.aux[5]), cw.aux[4], t]\n",
    "\n",
    "                    match = True\n",
    "                    break \n",
    "\n",
    "            if match == False:\n",
    "                lista_aux = [I,I,1,t-1,t,t]\n",
    "                C[row][col].append(Codeword(xt, lista_aux))\n",
    "\n",
    "for row in range(img.shape[0]):\n",
    "    for col in range(img.shape[1]):\n",
    "        for codeword in C[row][col]:\n",
    "            new_lamb = max(codeword.aux[3], (N-codeword.aux[5]+codeword.aux[4]-1))\n",
    "            codeword.aux[3] = new_lamb\n",
    "\n",
    "saida = open(\"treino.p\", \"wb\" )\n",
    "pickle.dump(C,  saida)\n",
    "saida.close()"
   ]
  },
  {
   "cell_type": "code",
   "execution_count": null,
   "metadata": {},
   "outputs": [],
   "source": [
    "entrada = open(\"treino.p\", \"rb\" )\n",
    "# C = pickle.load(entrada)\n",
    "e2 = 100\n",
    "\n",
    "img_l = cv.imread('teste.jpg')\n",
    "\n",
    "\n",
    "img_preta = np.zeros([img_l.shape[0],img_l.shape[1],3])\n",
    "\n",
    "\n",
    "def fBGS(xt, cw):\n",
    "    R = xt[0]\n",
    "    G = xt[1]\n",
    "    B = xt[2]\n",
    "    I =(R**2 + G**2 + B**2)**(1/2) \n",
    "\n",
    "\n",
    "    for cw in C[row][col]:\n",
    "        if (colordist(xt, cw.v) <= e2) and (brightness(xt, cw.aux[0], cw.aux[1])== True):\n",
    "            #background\n",
    "            cw.v[0] = (cw.aux[2]*cw.v[0]+xt[0])/(cw.aux[2]+1)\n",
    "            cw.v[1] = (cw.aux[2]*cw.v[1]+xt[1])/(cw.aux[2]+1)\n",
    "            cw.v[2] = (cw.aux[2]*cw.v[2]+xt[2])/(cw.aux[2]+1)\n",
    "            Imin = min(I, cw.aux[0])\n",
    "            Imax = max(I, cw.aux[1])\n",
    "            #ainda não determinamos o valor de t\n",
    "            t = 1\n",
    "            cw.aux = [Imin, Imax, cw.aux[2]+1, max(cw.aux[3],t-cw.aux[5]), cw.aux[4], t]\n",
    "\n",
    "            return True\n",
    "\n",
    "        else:\n",
    "        #foreground\n",
    "            return False\n",
    "\n",
    "\n",
    "\n",
    "for row in range (img_l.shape[0]):\n",
    "    for col in range(img_l.shape[1]):\n",
    "        pessoa = fBGS(img_l[row, col, :], C)\n",
    "        if pessoa == False:\n",
    "            for i in range(3):\n",
    "                img_preta[row, col, i] = 255\n",
    "\n",
    "plt.imshow(np.uint32(img_preta))\n",
    "plt.show()\n",
    "entrada.close()"
   ]
  },
  {
   "cell_type": "code",
   "execution_count": null,
   "metadata": {},
   "outputs": [],
   "source": []
  }
 ],
 "metadata": {
  "kernelspec": {
   "display_name": "Python 3",
   "language": "python",
   "name": "python3"
  },
  "language_info": {
   "codemirror_mode": {
    "name": "ipython",
    "version": 3
   },
   "file_extension": ".py",
   "mimetype": "text/x-python",
   "name": "python",
   "nbconvert_exporter": "python",
   "pygments_lexer": "ipython3",
   "version": "3.6.5"
  }
 },
 "nbformat": 4,
 "nbformat_minor": 2
}
